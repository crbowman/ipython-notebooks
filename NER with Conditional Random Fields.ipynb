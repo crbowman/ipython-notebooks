{
 "cells": [
  {
   "cell_type": "code",
   "execution_count": 3,
   "metadata": {
    "collapsed": false
   },
   "outputs": [
    {
     "name": "stdout",
     "output_type": "stream",
     "text": [
      "0.16.1\n"
     ]
    }
   ],
   "source": [
    "from itertools import chain\n",
    "import nltk\n",
    "import os\n",
    "from sklearn.metrics import classification_report, confusion_matrix\n",
    "from sklearn.preprocessing import LabelBinarizer\n",
    "import sklearn\n",
    "import pycrfsuite\n",
    "from ner_utils import corpus_as_iob_sents\n",
    "\n",
    "print(sklearn.__version__)"
   ]
  },
  {
   "cell_type": "code",
   "execution_count": 10,
   "metadata": {
    "collapsed": false
   },
   "outputs": [
    {
     "data": {
      "text/plain": [
       "'/home/curtis/shoeboxed/py-classifier/corpus_ner_big/square-enhanced'"
      ]
     },
     "execution_count": 10,
     "metadata": {},
     "output_type": "execute_result"
    }
   ],
   "source": [
    "CORPUS_FOLDER = os.path.abspath('corpus_ner_big/square-enhanced/')"
   ]
  },
  {
   "cell_type": "code",
   "execution_count": 14,
   "metadata": {
    "collapsed": false
   },
   "outputs": [
    {
     "name": "stdout",
     "output_type": "stream",
     "text": [
      "CPU times: user 32.7 ms, sys: 16 ms, total: 48.7 ms\n",
      "Wall time: 67.3 ms\n"
     ]
    }
   ],
   "source": [
    "%%time\n",
    "train_sents = corpus_as_iob_sents(CORPUS_FOLDER)\n",
    "test_sents = corpus_as_iob_sents(CORPUS_FOLDER, set_name='test')"
   ]
  },
  {
   "cell_type": "code",
   "execution_count": 41,
   "metadata": {
    "collapsed": false
   },
   "outputs": [
    {
     "data": {
      "text/plain": [
       "[('LINE', 'LINE', 'O'), ('TAB', 'TAB', 'O'), ('TAB', 'TAB', 'O')]"
      ]
     },
     "execution_count": 41,
     "metadata": {},
     "output_type": "execute_result"
    }
   ],
   "source": [
    "train_sents[12]"
   ]
  },
  {
   "cell_type": "code",
   "execution_count": 37,
   "metadata": {
    "collapsed": false
   },
   "outputs": [
    {
     "data": {
      "text/plain": [
       "[('LINE', 'LINE', 'O'),\n",
       " ('TAB', 'TAB', 'O'),\n",
       " ('Latte', 'EX', 'B-PROD'),\n",
       " ('Large', 'EX', 'I-PROD'),\n",
       " ('TAB', 'TAB', 'O'),\n",
       " ('$', '$', 'O'),\n",
       " ('4.78', 'CD', 'O')]"
      ]
     },
     "execution_count": 37,
     "metadata": {},
     "output_type": "execute_result"
    }
   ],
   "source": [
    "test_sents[5]"
   ]
  },
  {
   "cell_type": "code",
   "execution_count": 17,
   "metadata": {
    "collapsed": false
   },
   "outputs": [],
   "source": [
    "def word2features(sent, i):\n",
    "    word = sent[i][0]\n",
    "    postag = sent[i][1]\n",
    "    features = [\n",
    "        'bias',\n",
    "        'word[-3:]=' + word[-3:],\n",
    "        'word[-2:]=' + word[-2:],\n",
    "        'word.isupper={}'.format(word.isupper()),\n",
    "        'word.istitle={}'.format(word.istitle()),\n",
    "        'word.isdigit={}'.format(word.isdigit()),\n",
    "        'postag=' + postag,\n",
    "        'postag[:2]=' + postag[:2],\n",
    "    ]\n",
    "    if i > 0:\n",
    "        word1 = sent[i-1][0]\n",
    "        postag1 = sent[i-1][1]\n",
    "        features.extend([\n",
    "                '-1:word.lower=' + word1.lower(),\n",
    "                '-1:word.istitle={}'.format(word1.istitle()),\n",
    "                '-1:word.isupper={}'.format(word1.isupper()),\n",
    "                '-1:postag=' + postag1,\n",
    "                '-1:postag[:2]=' + postag1[:2]\n",
    "            ])\n",
    "    else:\n",
    "        features.append('BOS')\n",
    "    \n",
    "    if i < len(sent)-1:\n",
    "        word1 = sent[i+1][0]\n",
    "        postag1 = sent[i+1][1]\n",
    "        features.extend([\n",
    "            '+1:word.lower=' + word1.lower(),\n",
    "            '+1:word.istitle=%s' % word1.istitle(),\n",
    "            '+1:word.isupper=%s' % word1.isupper(),\n",
    "            '+1:postag=' + postag1,\n",
    "            '+1:postag[:2]=' + postag1[:2],\n",
    "        ])\n",
    "    else:\n",
    "        features.append('EOS')\n",
    "        \n",
    "    return features\n",
    "\n",
    "def sent2features(sent):\n",
    "    return [word2features(sent, i) for i in range(len(sent))]\n",
    "\n",
    "def sent2labels(sent):\n",
    "    return [label for token, postag, label in sent]\n",
    "\n",
    "def sent2tokens(sent):\n",
    "    return [token for token, postag, label in sent]"
   ]
  },
  {
   "cell_type": "code",
   "execution_count": 18,
   "metadata": {
    "collapsed": false
   },
   "outputs": [
    {
     "data": {
      "text/plain": [
       "['bias',\n",
       " 'word[-3:]=INE',\n",
       " 'word[-2:]=NE',\n",
       " 'word.isupper=True',\n",
       " 'word.istitle=False',\n",
       " 'word.isdigit=False',\n",
       " 'postag=LINE',\n",
       " 'postag[:2]=LI',\n",
       " 'BOS',\n",
       " '+1:word.lower=tab',\n",
       " '+1:word.istitle=False',\n",
       " '+1:word.isupper=True',\n",
       " '+1:postag=TAB',\n",
       " '+1:postag[:2]=TA']"
      ]
     },
     "execution_count": 18,
     "metadata": {},
     "output_type": "execute_result"
    }
   ],
   "source": [
    "sent2features(train_sents[0])[0]"
   ]
  },
  {
   "cell_type": "code",
   "execution_count": 19,
   "metadata": {
    "collapsed": false
   },
   "outputs": [
    {
     "name": "stdout",
     "output_type": "stream",
     "text": [
      "CPU times: user 1.33 s, sys: 48.3 ms, total: 1.38 s\n",
      "Wall time: 1.41 s\n"
     ]
    }
   ],
   "source": [
    "%%time\n",
    "x_train = [sent2features(s) for s in train_sents]\n",
    "y_train = [sent2labels(s) for s in train_sents]\n",
    "\n",
    "x_test = [sent2features(s) for s in test_sents]\n",
    "y_test = [sent2labels(s) for s in test_sents]"
   ]
  },
  {
   "cell_type": "code",
   "execution_count": 20,
   "metadata": {
    "collapsed": false
   },
   "outputs": [
    {
     "name": "stdout",
     "output_type": "stream",
     "text": [
      "CPU times: user 464 ms, sys: 3.53 ms, total: 468 ms\n",
      "Wall time: 480 ms\n"
     ]
    }
   ],
   "source": [
    "%%time\n",
    "trainer = pycrfsuite.Trainer(verbose=False)\n",
    "\n",
    "for xseq, yseq in zip(x_train, y_train):\n",
    "    trainer.append(xseq, yseq)"
   ]
  },
  {
   "cell_type": "code",
   "execution_count": 21,
   "metadata": {
    "collapsed": true
   },
   "outputs": [],
   "source": [
    "trainer.set_params({\n",
    "    'c1': 1.0,   # coefficient for L1 penalty\n",
    "    'c2': 1e-3,  # coefficient for L2 penalty\n",
    "    'max_iterations': 50,  # stop earlier\n",
    "\n",
    "    # include transitions that are possible, but not observed\n",
    "    'feature.possible_transitions': True\n",
    "})"
   ]
  },
  {
   "cell_type": "code",
   "execution_count": 22,
   "metadata": {
    "collapsed": false
   },
   "outputs": [
    {
     "data": {
      "text/plain": [
       "['feature.minfreq',\n",
       " 'feature.possible_states',\n",
       " 'feature.possible_transitions',\n",
       " 'c1',\n",
       " 'c2',\n",
       " 'max_iterations',\n",
       " 'num_memories',\n",
       " 'epsilon',\n",
       " 'period',\n",
       " 'delta',\n",
       " 'linesearch',\n",
       " 'max_linesearch']"
      ]
     },
     "execution_count": 22,
     "metadata": {},
     "output_type": "execute_result"
    }
   ],
   "source": [
    "trainer.params()"
   ]
  },
  {
   "cell_type": "code",
   "execution_count": 26,
   "metadata": {
    "collapsed": false
   },
   "outputs": [
    {
     "name": "stdout",
     "output_type": "stream",
     "text": [
      "CPU times: user 1.77 s, sys: 7.54 ms, total: 1.78 s\n",
      "Wall time: 1.81 s\n"
     ]
    }
   ],
   "source": [
    "%%time\n",
    "trainer.train('square-enhanced.crfsuite')"
   ]
  },
  {
   "cell_type": "code",
   "execution_count": 27,
   "metadata": {
    "collapsed": false
   },
   "outputs": [
    {
     "name": "stdout",
     "output_type": "stream",
     "text": [
      "-rw-rw-r-- 1 curtis curtis 32K Jun  2 11:35 ./square-enhanced.crfsuite\r\n"
     ]
    }
   ],
   "source": [
    "!ls -lh ./square-enhanced.crfsuite"
   ]
  },
  {
   "cell_type": "code",
   "execution_count": 28,
   "metadata": {
    "collapsed": false
   },
   "outputs": [
    {
     "data": {
      "text/plain": [
       "<contextlib.closing at 0x7f064b65a5c0>"
      ]
     },
     "execution_count": 28,
     "metadata": {},
     "output_type": "execute_result"
    }
   ],
   "source": [
    "tagger = pycrfsuite.Tagger()\n",
    "tagger.open('square-enhanced.crfsuite')"
   ]
  },
  {
   "cell_type": "code",
   "execution_count": 31,
   "metadata": {
    "collapsed": false
   },
   "outputs": [
    {
     "name": "stdout",
     "output_type": "stream",
     "text": [
      "LINE TAB Latte Large TAB $ 4.78\n",
      "\n",
      "Predicted: O O B-PROD I-PROD O O O\n",
      "Correct:   O O B-PROD I-PROD O O O\n"
     ]
    }
   ],
   "source": [
    "example_sent = test_sents[5]\n",
    "print(' '.join(sent2tokens(example_sent)), end = '\\n\\n')\n",
    "\n",
    "print(\"Predicted:\", ' '.join(tagger.tag(sent2features(example_sent))))\n",
    "print(\"Correct:  \", ' '.join(sent2labels(example_sent)))"
   ]
  },
  {
   "cell_type": "code",
   "execution_count": 32,
   "metadata": {
    "collapsed": true
   },
   "outputs": [],
   "source": [
    "def bio_classification_report(y_true, y_pred):\n",
    "    lb = LabelBinarizer()\n",
    "    y_true_combined = lb.fit_transform(list(chain.from_iterable(y_true)))\n",
    "    y_pred_combined = lb.transform(list(chain.from_iterable(y_pred)))\n",
    "        \n",
    "    tagset = set(lb.classes_) - {'O'}\n",
    "    tagset = sorted(tagset, key=lambda tag: tag.split('-', 1)[::-1])\n",
    "    class_indices = {cls: idx for idx, cls in enumerate(lb.classes_)}\n",
    "    \n",
    "    return classification_report(\n",
    "        y_true_combined,\n",
    "        y_pred_combined,\n",
    "        labels = [class_indices[cls] for cls in tagset],\n",
    "        target_names = tagset,\n",
    "    )"
   ]
  },
  {
   "cell_type": "code",
   "execution_count": 33,
   "metadata": {
    "collapsed": false
   },
   "outputs": [
    {
     "name": "stdout",
     "output_type": "stream",
     "text": [
      "CPU times: user 52.3 ms, sys: 0 ns, total: 52.3 ms\n",
      "Wall time: 75.6 ms\n"
     ]
    }
   ],
   "source": [
    "%%time\n",
    "y_pred = [tagger.tag(xseq) for xseq in x_test]"
   ]
  },
  {
   "cell_type": "code",
   "execution_count": 34,
   "metadata": {
    "collapsed": false
   },
   "outputs": [
    {
     "name": "stdout",
     "output_type": "stream",
     "text": [
      "             precision    recall  f1-score   support\n",
      "\n",
      "     B-PROD       1.00      0.80      0.89        25\n",
      "     I-PROD       0.91      0.94      0.93        33\n",
      "\n",
      "avg / total       0.95      0.88      0.91        58\n",
      "\n"
     ]
    }
   ],
   "source": [
    "print(bio_classification_report(y_test, y_pred))"
   ]
  },
  {
   "cell_type": "code",
   "execution_count": 35,
   "metadata": {
    "collapsed": false
   },
   "outputs": [
    {
     "name": "stdout",
     "output_type": "stream",
     "text": [
      "Top likely transitions:\n",
      "B-PROD -> I-PROD  2.711294\n",
      "O      -> O       2.026260\n",
      "I-PROD -> I-PROD  1.935834\n",
      "O      -> B-PROD  -0.241722\n",
      "B-PROD -> B-PROD  -2.098638\n",
      "B-PROD -> O       -2.963685\n",
      "I-PROD -> O       -3.307693\n",
      "I-PROD -> B-PROD  -3.589634\n",
      "O      -> I-PROD  -6.361430\n",
      "\n",
      "Top unlikely transitions:\n",
      "B-PROD -> I-PROD  2.711294\n",
      "O      -> O       2.026260\n",
      "I-PROD -> I-PROD  1.935834\n",
      "O      -> B-PROD  -0.241722\n",
      "B-PROD -> B-PROD  -2.098638\n",
      "B-PROD -> O       -2.963685\n",
      "I-PROD -> O       -3.307693\n",
      "I-PROD -> B-PROD  -3.589634\n",
      "O      -> I-PROD  -6.361430\n"
     ]
    }
   ],
   "source": [
    "from collections import Counter\n",
    "info = tagger.info()\n",
    "\n",
    "def print_transitions(trans_features):\n",
    "    for (label_from, label_to), weight in trans_features:\n",
    "        print(\"%-6s -> %-7s %0.6f\" % (label_from, label_to, weight))\n",
    "\n",
    "print(\"Top likely transitions:\")\n",
    "print_transitions(Counter(info.transitions).most_common(15))\n",
    "\n",
    "print(\"\\nTop unlikely transitions:\")\n",
    "print_transitions(Counter(info.transitions).most_common()[-15:])"
   ]
  },
  {
   "cell_type": "code",
   "execution_count": 36,
   "metadata": {
    "collapsed": false
   },
   "outputs": [
    {
     "name": "stdout",
     "output_type": "stream",
     "text": [
      "Top positive:\n",
      "5.369755 I-PROD +1:word.lower=1733\n",
      "4.648653 B-PROD BOS\n",
      "4.465384 O      BOS\n",
      "3.363478 B-PROD -1:word.lower=tab\n",
      "3.159274 I-PROD +1:word.lower=(\n",
      "2.900037 O      EOS\n",
      "2.599837 O      word[-3:]=TAB\n",
      "2.599837 O      word[-2:]=AB\n",
      "2.508511 I-PROD +1:word.lower=welcome\n",
      "2.266115 I-PROD +1:word.lower=tab\n",
      "2.109153 O      word[-2:]=33\n",
      "1.819385 O      word[-3:]=733\n",
      "1.517955 O      word[-3:]=INE\n",
      "1.462312 O      word[-2:]=NE\n",
      "1.449820 I-PROD -1:word.lower=a\n",
      "1.305649 I-PROD word[-2:]=nd\n",
      "1.284116 O      word[-3:]=tal\n",
      "1.133855 B-PROD -1:word.isupper=True\n",
      "1.096099 O      word[-2:]=sa\n",
      "1.096099 O      word[-3:]=isa\n",
      "\n",
      "Top negative:\n",
      "-0.606952 I-PROD word[-3:]=(\n",
      "-0.606952 I-PROD word[-2:]=(\n",
      "-0.607854 B-PROD word.isupper=False\n",
      "-0.632614 B-PROD word.isdigit=False\n",
      "-0.635250 O      word[-2:]=ch\n",
      "-0.650254 O      -1:word.lower=4\n",
      "-0.673550 B-PROD bias\n",
      "-0.717411 B-PROD word.istitle=False\n",
      "-0.718966 B-PROD postag[:2]=JJ\n",
      "-0.825443 I-PROD word.isdigit=True\n",
      "-0.837734 O      +1:word.isupper=True\n",
      "-0.868834 I-PROD word[-2:]=NE\n",
      "-0.872192 I-PROD -1:word.lower=marked\n",
      "-0.924351 O      -1:word.lower=tab\n",
      "-1.059751 O      +1:word.lower=(\n",
      "-1.301885 I-PROD EOS\n",
      "-1.718644 O      +1:word.lower=welcome\n",
      "-1.776350 O      +1:word.lower=oz\n",
      "-2.157406 O      +1:word.lower=×\n",
      "-2.850742 O      +1:word.lower=tab\n"
     ]
    }
   ],
   "source": [
    "def print_state_features(state_features):\n",
    "    for (attr, label), weight in state_features:\n",
    "        print(\"%0.6f %-6s %s\" % (weight, label, attr))    \n",
    "\n",
    "print(\"Top positive:\")\n",
    "print_state_features(Counter(info.state_features).most_common(20))\n",
    "\n",
    "print(\"\\nTop negative:\")\n",
    "print_state_features(Counter(info.state_features).most_common()[-20:])"
   ]
  }
 ],
 "metadata": {
  "kernelspec": {
   "display_name": "Python 3",
   "language": "python",
   "name": "python3"
  },
  "language_info": {
   "codemirror_mode": {
    "name": "ipython",
    "version": 3
   },
   "file_extension": ".py",
   "mimetype": "text/x-python",
   "name": "python",
   "nbconvert_exporter": "python",
   "pygments_lexer": "ipython3",
   "version": "3.4.0"
  }
 },
 "nbformat": 4,
 "nbformat_minor": 0
}
