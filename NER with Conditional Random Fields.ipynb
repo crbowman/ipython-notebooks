{
 "cells": [
  {
   "cell_type": "code",
   "execution_count": 1,
   "metadata": {
    "collapsed": false
   },
   "outputs": [
    {
     "name": "stdout",
     "output_type": "stream",
     "text": [
      "0.16.1\n"
     ]
    }
   ],
   "source": [
    "from itertools import chain\n",
    "import nltk\n",
    "from sklearn.metrics import classification_report, confusion_matrix\n",
    "from sklearn.preprocessing import LabelBinarizer\n",
    "import sklearn\n",
    "import pycrfsuite\n",
    "\n",
    "print(sklearn.__version__)"
   ]
  },
  {
   "cell_type": "code",
   "execution_count": 2,
   "metadata": {
    "collapsed": false
   },
   "outputs": [
    {
     "data": {
      "text/plain": [
       "['esp.testa', 'esp.testb', 'esp.train', 'ned.testa', 'ned.testb', 'ned.train']"
      ]
     },
     "execution_count": 2,
     "metadata": {},
     "output_type": "execute_result"
    }
   ],
   "source": [
    "nltk.corpus.conll2002.fileids()"
   ]
  },
  {
   "cell_type": "code",
   "execution_count": 3,
   "metadata": {
    "collapsed": false
   },
   "outputs": [
    {
     "name": "stdout",
     "output_type": "stream",
     "text": [
      "CPU times: user 5.9 s, sys: 145 ms, total: 6.05 s\n",
      "Wall time: 6.14 s\n"
     ]
    }
   ],
   "source": [
    "%%time\n",
    "train_sents = list(nltk.corpus.conll2002.iob_sents('ned.train'))\n",
    "test_sents = list(nltk.corpus.conll2002.iob_sents('ned.testa'))"
   ]
  },
  {
   "cell_type": "code",
   "execution_count": 4,
   "metadata": {
    "collapsed": false
   },
   "outputs": [
    {
     "data": {
      "text/plain": [
       "[('De', 'Art', 'O'),\n",
       " ('tekst', 'N', 'O'),\n",
       " ('van', 'Prep', 'O'),\n",
       " ('het', 'Art', 'O'),\n",
       " ('arrest', 'N', 'O'),\n",
       " ('is', 'V', 'O'),\n",
       " ('nog', 'Adv', 'O'),\n",
       " ('niet', 'Adv', 'O'),\n",
       " ('schriftelijk', 'Adj', 'O'),\n",
       " ('beschikbaar', 'Adj', 'O'),\n",
       " ('maar', 'Conj', 'O'),\n",
       " ('het', 'Art', 'O'),\n",
       " ('bericht', 'N', 'O'),\n",
       " ('werd', 'V', 'O'),\n",
       " ('alvast', 'Adv', 'O'),\n",
       " ('bekendgemaakt', 'V', 'O'),\n",
       " ('door', 'Prep', 'O'),\n",
       " ('een', 'Art', 'O'),\n",
       " ('communicatiebureau', 'N', 'O'),\n",
       " ('dat', 'Conj', 'O'),\n",
       " ('Floralux', 'N', 'B-ORG'),\n",
       " ('inhuurde', 'V', 'O'),\n",
       " ('.', 'Punc', 'O')]"
      ]
     },
     "execution_count": 4,
     "metadata": {},
     "output_type": "execute_result"
    }
   ],
   "source": [
    "train_sents[0]"
   ]
  },
  {
   "cell_type": "code",
   "execution_count": 5,
   "metadata": {
    "collapsed": false
   },
   "outputs": [
    {
     "data": {
      "text/plain": [
       "[('Dat', 'Pron', 'O'),\n",
       " ('is', 'V', 'O'),\n",
       " ('verder', 'Adj', 'O'),\n",
       " ('opgelaaid', 'N', 'O'),\n",
       " ('door', 'Prep', 'O'),\n",
       " ('windsnelheden', 'N', 'O'),\n",
       " ('die', 'Pron', 'O'),\n",
       " ('oplopen', 'V', 'O'),\n",
       " ('tot', 'Prep', 'O'),\n",
       " ('35', 'Num', 'O'),\n",
       " ('kilometer', 'N', 'O'),\n",
       " ('per', 'Prep', 'O'),\n",
       " ('uur', 'N', 'O'),\n",
       " ('.', 'Punc', 'O')]"
      ]
     },
     "execution_count": 5,
     "metadata": {},
     "output_type": "execute_result"
    }
   ],
   "source": [
    "test_sents[0]"
   ]
  },
  {
   "cell_type": "code",
   "execution_count": 6,
   "metadata": {
    "collapsed": false
   },
   "outputs": [],
   "source": [
    "def word2features(sent, i):\n",
    "    word = sent[i][0]\n",
    "    postag = sent[i][1]\n",
    "    features = [\n",
    "        'bias',\n",
    "        'word[-3:]=' + word[-3:],\n",
    "        'word[-2:]=' + word[-2:],\n",
    "        'word.isupper={}'.format(word.isupper()),\n",
    "        'word.istitle={}'.format(word.istitle()),\n",
    "        'word.isdigit={}'.format(word.isdigit()),\n",
    "        'postag=' + postag,\n",
    "        'postag[:2]=' + postag[:2],\n",
    "    ]\n",
    "    if i > 0:\n",
    "        word1 = sent[i-1][0]\n",
    "        postag1 = sent[i-1][1]\n",
    "        features.extend([\n",
    "                '-1:word.lower=' + word1.lower(),\n",
    "                '-1:word.istitle={}'.format(word1.istitle()),\n",
    "                '-1:word.isupper={}'.format(word1.isupper()),\n",
    "                '-1:postag=' + postag1,\n",
    "                '-1:postag[:2]=' + postag1[:2]\n",
    "            ])\n",
    "    else:\n",
    "        features.append('BOS')\n",
    "    \n",
    "    if i < len(sent)-1:\n",
    "        word1 = sent[i+1][0]\n",
    "        postag1 = sent[i+1][1]\n",
    "        features.extend([\n",
    "            '+1:word.lower=' + word1.lower(),\n",
    "            '+1:word.istitle=%s' % word1.istitle(),\n",
    "            '+1:word.isupper=%s' % word1.isupper(),\n",
    "            '+1:postag=' + postag1,\n",
    "            '+1:postag[:2]=' + postag1[:2],\n",
    "        ])\n",
    "    else:\n",
    "        features.append('EOS')\n",
    "        \n",
    "    return features\n",
    "\n",
    "def sent2features(sent):\n",
    "    return [word2features(sent, i) for i in range(len(sent))]\n",
    "\n",
    "def sent2labels(sent):\n",
    "    return [label for token, postag, label in sent]\n",
    "\n",
    "def sent2tokens(sent):\n",
    "    return [token for token, postag, label in sent]"
   ]
  },
  {
   "cell_type": "code",
   "execution_count": 7,
   "metadata": {
    "collapsed": false
   },
   "outputs": [
    {
     "data": {
      "text/plain": [
       "['bias',\n",
       " 'word[-3:]=De',\n",
       " 'word[-2:]=De',\n",
       " 'word.isupper=False',\n",
       " 'word.istitle=True',\n",
       " 'word.isdigit=False',\n",
       " 'postag=Art',\n",
       " 'postag[:2]=Ar',\n",
       " 'BOS',\n",
       " '+1:word.lower=tekst',\n",
       " '+1:word.istitle=False',\n",
       " '+1:word.isupper=False',\n",
       " '+1:postag=N',\n",
       " '+1:postag[:2]=N']"
      ]
     },
     "execution_count": 7,
     "metadata": {},
     "output_type": "execute_result"
    }
   ],
   "source": [
    "sent2features(train_sents[0])[0]"
   ]
  },
  {
   "cell_type": "code",
   "execution_count": 8,
   "metadata": {
    "collapsed": false
   },
   "outputs": [
    {
     "name": "stdout",
     "output_type": "stream",
     "text": [
      "CPU times: user 4.5 s, sys: 228 ms, total: 4.73 s\n",
      "Wall time: 4.76 s\n"
     ]
    }
   ],
   "source": [
    "%%time\n",
    "x_train = [sent2features(s) for s in train_sents]\n",
    "y_train = [sent2labels(s) for s in train_sents]\n",
    "\n",
    "x_test = [sent2features(s) for s in test_sents]\n",
    "y_test = [sent2labels(s) for s in test_sents]"
   ]
  },
  {
   "cell_type": "code",
   "execution_count": 9,
   "metadata": {
    "collapsed": false
   },
   "outputs": [
    {
     "name": "stdout",
     "output_type": "stream",
     "text": [
      "CPU times: user 4.67 s, sys: 55.8 ms, total: 4.72 s\n",
      "Wall time: 4.75 s\n"
     ]
    }
   ],
   "source": [
    "%%time\n",
    "trainer = pycrfsuite.Trainer(verbose=False)\n",
    "\n",
    "for xseq, yseq in zip(x_train, y_train):\n",
    "    trainer.append(xseq, yseq)"
   ]
  },
  {
   "cell_type": "code",
   "execution_count": 10,
   "metadata": {
    "collapsed": true
   },
   "outputs": [],
   "source": [
    "trainer.set_params({\n",
    "    'c1': 1.0,   # coefficient for L1 penalty\n",
    "    'c2': 1e-3,  # coefficient for L2 penalty\n",
    "    'max_iterations': 50,  # stop earlier\n",
    "\n",
    "    # include transitions that are possible, but not observed\n",
    "    'feature.possible_transitions': True\n",
    "})"
   ]
  },
  {
   "cell_type": "code",
   "execution_count": 11,
   "metadata": {
    "collapsed": false
   },
   "outputs": [
    {
     "data": {
      "text/plain": [
       "['feature.minfreq',\n",
       " 'feature.possible_states',\n",
       " 'feature.possible_transitions',\n",
       " 'c1',\n",
       " 'c2',\n",
       " 'max_iterations',\n",
       " 'num_memories',\n",
       " 'epsilon',\n",
       " 'period',\n",
       " 'delta',\n",
       " 'linesearch',\n",
       " 'max_linesearch']"
      ]
     },
     "execution_count": 11,
     "metadata": {},
     "output_type": "execute_result"
    }
   ],
   "source": [
    "trainer.params()"
   ]
  },
  {
   "cell_type": "code",
   "execution_count": 12,
   "metadata": {
    "collapsed": false
   },
   "outputs": [
    {
     "name": "stdout",
     "output_type": "stream",
     "text": [
      "CPU times: user 31.8 s, sys: 80.1 ms, total: 31.9 s\n",
      "Wall time: 31.9 s\n"
     ]
    }
   ],
   "source": [
    "%%time\n",
    "trainer.train('conll2002-ned.crfsuite')"
   ]
  },
  {
   "cell_type": "code",
   "execution_count": 13,
   "metadata": {
    "collapsed": false
   },
   "outputs": [
    {
     "name": "stdout",
     "output_type": "stream",
     "text": [
      "-rw-rw-r-- 1 curtis curtis 265K Jun  2 09:35 ./conll2002-ned.crfsuite\r\n"
     ]
    }
   ],
   "source": [
    "!ls -lh ./conll2002-ned.crfsuite"
   ]
  },
  {
   "cell_type": "code",
   "execution_count": 14,
   "metadata": {
    "collapsed": false
   },
   "outputs": [
    {
     "data": {
      "text/plain": [
       "<contextlib.closing at 0x7fdad4a30a20>"
      ]
     },
     "execution_count": 14,
     "metadata": {},
     "output_type": "execute_result"
    }
   ],
   "source": [
    "tagger = pycrfsuite.Tagger()\n",
    "tagger.open('conll2002-ned.crfsuite')"
   ]
  },
  {
   "cell_type": "code",
   "execution_count": 15,
   "metadata": {
    "collapsed": false
   },
   "outputs": [
    {
     "name": "stdout",
     "output_type": "stream",
     "text": [
      "Ook in Californië , in Sierra Nevada , woeden al een week lang hevige bosbranden .\n",
      "\n",
      "Predicted: O O B-LOC O O B-LOC I-LOC O O O O O O O O O\n",
      "Correct:   O O B-LOC O O B-LOC I-LOC O O O O O O O O O\n"
     ]
    }
   ],
   "source": [
    "example_sent = test_sents[2]\n",
    "print(' '.join(sent2tokens(example_sent)), end = '\\n\\n')\n",
    "\n",
    "print(\"Predicted:\", ' '.join(tagger.tag(sent2features(example_sent))))\n",
    "print(\"Correct:  \", ' '.join(sent2labels(example_sent)))"
   ]
  },
  {
   "cell_type": "code",
   "execution_count": 16,
   "metadata": {
    "collapsed": true
   },
   "outputs": [],
   "source": [
    "def bio_classification_report(y_true, y_pred):\n",
    "    lb = LabelBinarizer()\n",
    "    y_true_combined = lb.fit_transform(list(chain.from_iterable(y_true)))\n",
    "    y_pred_combined = lb.transform(list(chain.from_iterable(y_pred)))\n",
    "        \n",
    "    tagset = set(lb.classes_) - {'O'}\n",
    "    tagset = sorted(tagset, key=lambda tag: tag.split('-', 1)[::-1])\n",
    "    class_indices = {cls: idx for idx, cls in enumerate(lb.classes_)}\n",
    "    \n",
    "    return classification_report(\n",
    "        y_true_combined,\n",
    "        y_pred_combined,\n",
    "        labels = [class_indices[cls] for cls in tagset],\n",
    "        target_names = tagset,\n",
    "    )"
   ]
  },
  {
   "cell_type": "code",
   "execution_count": 17,
   "metadata": {
    "collapsed": false
   },
   "outputs": [
    {
     "name": "stdout",
     "output_type": "stream",
     "text": [
      "CPU times: user 890 ms, sys: 7.8 ms, total: 898 ms\n",
      "Wall time: 958 ms\n"
     ]
    }
   ],
   "source": [
    "%%time\n",
    "y_pred = [tagger.tag(xseq) for xseq in x_test]"
   ]
  },
  {
   "cell_type": "code",
   "execution_count": 18,
   "metadata": {
    "collapsed": false
   },
   "outputs": [
    {
     "name": "stdout",
     "output_type": "stream",
     "text": [
      "             precision    recall  f1-score   support\n",
      "\n",
      "      B-LOC       0.72      0.72      0.72       479\n",
      "      I-LOC       0.42      0.38      0.40        64\n",
      "     B-MISC       0.76      0.60      0.67       748\n",
      "     I-MISC       0.60      0.51      0.55       215\n",
      "      B-ORG       0.84      0.53      0.65       686\n",
      "      I-ORG       0.83      0.57      0.68       396\n",
      "      B-PER       0.67      0.80      0.73       703\n",
      "      I-PER       0.75      0.94      0.84       423\n",
      "\n",
      "avg / total       0.74      0.67      0.69      3714\n",
      "\n"
     ]
    }
   ],
   "source": [
    "print(bio_classification_report(y_test, y_pred))"
   ]
  },
  {
   "cell_type": "code",
   "execution_count": 19,
   "metadata": {
    "collapsed": false
   },
   "outputs": [
    {
     "name": "stdout",
     "output_type": "stream",
     "text": [
      "Top likely transitions:\n",
      "B-PER  -> I-PER   5.160822\n",
      "B-LOC  -> I-LOC   5.028159\n",
      "B-ORG  -> I-ORG   4.599620\n",
      "I-MISC -> I-MISC  4.233843\n",
      "I-LOC  -> I-LOC   4.138612\n",
      "I-ORG  -> I-ORG   4.014301\n",
      "B-MISC -> I-MISC  3.813706\n",
      "I-PER  -> I-PER   2.877162\n",
      "O      -> O       1.237149\n",
      "O      -> B-PER   0.841806\n",
      "O      -> B-MISC  0.810526\n",
      "O      -> B-LOC   0.719871\n",
      "O      -> B-ORG   0.415048\n",
      "I-MISC -> B-ORG   0.286818\n",
      "B-MISC -> B-PER   0.178145\n",
      "\n",
      "Top unlikely transitions:\n",
      "I-LOC  -> B-PER   -2.212303\n",
      "B-LOC  -> I-PER   -2.317872\n",
      "B-PER  -> B-ORG   -2.399059\n",
      "B-LOC  -> I-MISC  -2.487489\n",
      "B-LOC  -> B-ORG   -2.573519\n",
      "I-PER  -> B-PER   -2.598128\n",
      "B-MISC -> I-LOC   -2.627749\n",
      "I-MISC -> B-LOC   -2.730945\n",
      "I-MISC -> I-PER   -2.781056\n",
      "B-MISC -> I-PER   -3.399730\n",
      "B-MISC -> I-ORG   -3.689969\n",
      "O      -> I-LOC   -6.559237\n",
      "O      -> I-ORG   -6.761947\n",
      "O      -> I-MISC  -7.033212\n",
      "O      -> I-PER   -7.323753\n"
     ]
    }
   ],
   "source": [
    "from collections import Counter\n",
    "info = tagger.info()\n",
    "\n",
    "def print_transitions(trans_features):\n",
    "    for (label_from, label_to), weight in trans_features:\n",
    "        print(\"%-6s -> %-7s %0.6f\" % (label_from, label_to, weight))\n",
    "\n",
    "print(\"Top likely transitions:\")\n",
    "print_transitions(Counter(info.transitions).most_common(15))\n",
    "\n",
    "print(\"\\nTop unlikely transitions:\")\n",
    "print_transitions(Counter(info.transitions).most_common()[-15:])"
   ]
  },
  {
   "cell_type": "code",
   "execution_count": 20,
   "metadata": {
    "collapsed": false
   },
   "outputs": [
    {
     "name": "stdout",
     "output_type": "stream",
     "text": [
      "Top positive:\n",
      "5.447402 O      -1:word.lower=+\n",
      "5.001577 I-MISC +1:word.lower=ned\n",
      "4.910584 B-ORG  +1:word.lower=volkskrant\n",
      "4.852691 I-MISC -1:word.lower=tbs\n",
      "4.818328 B-ORG  word[-3:]=Mix\n",
      "4.788142 B-MISC word[-3:]='er\n",
      "4.570704 B-PER  +1:word.lower=gucht\n",
      "4.458404 B-LOC  +1:word.lower=toneelhuis\n",
      "4.394968 I-PER  +1:word.lower=reeth\n",
      "4.355056 B-ORG  word[-3:]=mar\n",
      "4.342996 B-ORG  -1:word.lower=holding\n",
      "4.341810 B-ORG  word[-3:]=sys\n",
      "4.339052 B-MISC +1:word.lower=bijsluiter\n",
      "4.319794 B-PER  word[-3:]=par\n",
      "4.305789 B-LOC  word[-2:]=ië\n",
      "4.283598 B-ORG  word[-3:]=vas\n",
      "4.178316 O      word[-3:]=oto\n",
      "4.142664 B-ORG  word[-3:]=d's\n",
      "4.137002 B-ORG  word[-3:]=ray\n",
      "4.098414 B-MISC -1:word.lower=tentoonstelling\n",
      "\n",
      "Top negative:\n",
      "-2.319940 B-PER  word[-3:]=ken\n",
      "-2.328662 O      -1:word.lower=zogenaamde\n",
      "-2.386422 B-LOC  word.istitle=False\n",
      "-2.400493 O      +1:word.lower=toont\n",
      "-2.418656 O      +1:word.lower=(\n",
      "-2.434077 O      +1:word.lower=vormgeving\n",
      "-2.436619 B-PER  -1:word.lower=in\n",
      "-2.480851 I-LOC  postag[:2]=Ad\n",
      "-2.605428 O      word[-2:]=ix\n",
      "-2.630473 O      +1:word.lower=bbc\n",
      "-2.732811 B-PER  word[-3:]=ing\n",
      "-2.774253 O      -1:word.lower=col\n",
      "-3.298909 O      word[-3:]=adt\n",
      "-3.328801 O      word[-3:]=our\n",
      "-3.777433 O      word.isupper=True\n",
      "-3.926932 O      -1:word.lower=tv\n",
      "-4.144369 O      word[-2:]=ae\n",
      "-4.301507 O      word[-2:]=ux\n",
      "-4.425528 O      -1:word.lower=magazine\n",
      "-5.352621 O      word[-3:]=ple\n"
     ]
    }
   ],
   "source": [
    "def print_state_features(state_features):\n",
    "    for (attr, label), weight in state_features:\n",
    "        print(\"%0.6f %-6s %s\" % (weight, label, attr))    \n",
    "\n",
    "print(\"Top positive:\")\n",
    "print_state_features(Counter(info.state_features).most_common(20))\n",
    "\n",
    "print(\"\\nTop negative:\")\n",
    "print_state_features(Counter(info.state_features).most_common()[-20:])"
   ]
  }
 ],
 "metadata": {
  "kernelspec": {
   "display_name": "Python 3",
   "language": "python",
   "name": "python3"
  },
  "language_info": {
   "codemirror_mode": {
    "name": "ipython",
    "version": 3
   },
   "file_extension": ".py",
   "mimetype": "text/x-python",
   "name": "python",
   "nbconvert_exporter": "python",
   "pygments_lexer": "ipython3",
   "version": "3.4.0"
  }
 },
 "nbformat": 4,
 "nbformat_minor": 0
}
